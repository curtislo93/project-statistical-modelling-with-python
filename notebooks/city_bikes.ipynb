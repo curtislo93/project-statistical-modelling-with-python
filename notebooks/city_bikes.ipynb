{
 "cells": [
  {
   "cell_type": "markdown",
   "metadata": {},
   "source": [
    "# CityBikes"
   ]
  },
  {
   "cell_type": "markdown",
   "metadata": {},
   "source": [
    "Send a request to CityBikes for the city of your choice. "
   ]
  },
  {
   "cell_type": "code",
   "execution_count": 1,
   "metadata": {
    "tags": []
   },
   "outputs": [],
   "source": [
    "import requests\n",
    "import os\n",
    "import pandas as pd\n",
    "import json"
   ]
  },
  {
   "cell_type": "code",
   "execution_count": 2,
   "metadata": {
    "tags": []
   },
   "outputs": [
    {
     "name": "stdout",
     "output_type": "stream",
     "text": [
      "200\n"
     ]
    }
   ],
   "source": [
    "response = requests.get('http://api.citybik.es/v2/networks')\n",
    "print(response.status_code)"
   ]
  },
  {
   "cell_type": "code",
   "execution_count": 3,
   "metadata": {
    "tags": []
   },
   "outputs": [],
   "source": [
    "def get_city_bike_data(city_name):\n",
    "    url = 'http://api.citybik.es/v2/networks/'\n",
    "   \n",
    "    response = requests.get(url)\n",
    "    \n",
    "    if response.status_code == 200:\n",
    "        data = response.json()\n",
    "        networks = data.get('networks',[])\n",
    "        for network in networks:\n",
    "            if network['location']['city'].lower() == city_name.lower():\n",
    "                return network\n",
    "        print(f\"'{city_name}' not found in the CityBikes API.\")\n",
    "        return None\n",
    "    else:\n",
    "        print(f\"Error: Unable to fetch data for {city_name}. Status code: {response.status_code}\")\n",
    "        return None"
   ]
  },
  {
   "cell_type": "code",
   "execution_count": 4,
   "metadata": {
    "tags": []
   },
   "outputs": [
    {
     "name": "stdout",
     "output_type": "stream",
     "text": [
      "{\n",
      "    \"company\": [\n",
      "        \"Vanncouver Bike Share Inc.\",\n",
      "        \"CycleHop LLC\",\n",
      "        \"City of Vancouver\",\n",
      "        \"Shaw Communications Inc.\",\n",
      "        \"Fifteen\"\n",
      "    ],\n",
      "    \"gbfs_href\": \"https://vancouver-gbfs.smoove.pro/gbfs/2/gbfs.json\",\n",
      "    \"href\": \"/v2/networks/mobibikes\",\n",
      "    \"id\": \"mobibikes\",\n",
      "    \"location\": {\n",
      "        \"city\": \"Vancouver\",\n",
      "        \"country\": \"CA\",\n",
      "        \"latitude\": 49.2827,\n",
      "        \"longitude\": -123.1207\n",
      "    },\n",
      "    \"name\": \"Mobi\"\n",
      "}\n"
     ]
    }
   ],
   "source": [
    "city_name = 'Vancouver'\n",
    "city_bike_data = get_city_bike_data(city_name)\n",
    "\n",
    "if city_bike_data is not None:\n",
    "    print(json.dumps(city_bike_data, indent=4))"
   ]
  },
  {
   "cell_type": "markdown",
   "metadata": {},
   "source": [
    "Parse through the response to get the details you want for the bike stations in that city (latitude, longitude, number of bikes). "
   ]
  },
  {
   "cell_type": "code",
   "execution_count": 8,
   "metadata": {
    "tags": []
   },
   "outputs": [],
   "source": [
    "def get_bike_station_details(city_name):\n",
    "    url = f'http://api.citybik.es/v2/networks/{network_id}'\n",
    "    response = requests.get(url)\n",
    "    \n",
    "    if response.status_code == 200:\n",
    "        data = response.json()\n",
    "        return data.get('network', None)\n",
    "    else:\n",
    "        print(f\"Error: Unable to fetch data for {network_id}. Status code: {response.status_code}\")\n",
    "        return None\n",
    "    \n",
    "network_id = 'mobibikes'\n",
    "bike_station_details = get_bike_station_details(network_id)\n",
    "    \n",
    "if bike_station_details is not None:\n",
    "    stations = bike_station_details.get('stations', [])\n",
    "    if not stations:\n",
    "        print(f\"No bike stations data available for {network_id}.\")\n",
    "    else:\n",
    "        station_details_list = []\n",
    "        for station in stations:\n",
    "            station_name = station['name']\n",
    "            latitude = station['latitude']\n",
    "            longitude = station['longitude']\n",
    "            num_bikes = station['free_bikes']\n",
    "            empty_slots = station['empty_slots']\n",
    "            station_id = station['id']\n",
    "            \n",
    "            station_details_list.append({\n",
    "                'Station Name': station_name,\n",
    "                # 'Station ID': station_id,   #didn't want to show it to cluster data...\n",
    "                'Latitude': latitude,\n",
    "                'Longitude': longitude,\n",
    "                'Available Bikes': num_bikes,\n",
    "                'Empty Slots': empty_slots\n",
    "            })\n",
    "        df = pd.DataFrame(station_details_list)\n",
    "else:\n",
    "    print(f\"No data available for {network_id} or network ID not found.\")"
   ]
  },
  {
   "cell_type": "markdown",
   "metadata": {},
   "source": [
    "Put your parsed results into a DataFrame."
   ]
  },
  {
   "cell_type": "code",
   "execution_count": 9,
   "metadata": {},
   "outputs": [
    {
     "data": {
      "text/html": [
       "<div>\n",
       "<style scoped>\n",
       "    .dataframe tbody tr th:only-of-type {\n",
       "        vertical-align: middle;\n",
       "    }\n",
       "\n",
       "    .dataframe tbody tr th {\n",
       "        vertical-align: top;\n",
       "    }\n",
       "\n",
       "    .dataframe thead th {\n",
       "        text-align: right;\n",
       "    }\n",
       "</style>\n",
       "<table border=\"1\" class=\"dataframe\">\n",
       "  <thead>\n",
       "    <tr style=\"text-align: right;\">\n",
       "      <th></th>\n",
       "      <th>Station Name</th>\n",
       "      <th>Station ID</th>\n",
       "      <th>Latitude</th>\n",
       "      <th>Longitude</th>\n",
       "      <th>Available Bikes</th>\n",
       "      <th>Empty Slots</th>\n",
       "    </tr>\n",
       "  </thead>\n",
       "  <tbody>\n",
       "    <tr>\n",
       "      <th>0</th>\n",
       "      <td>10th &amp; Cambie</td>\n",
       "      <td>7a19c49f486d7c0c02b3685d7b240448</td>\n",
       "      <td>49.262487</td>\n",
       "      <td>-123.114397</td>\n",
       "      <td>16</td>\n",
       "      <td>19</td>\n",
       "    </tr>\n",
       "    <tr>\n",
       "      <th>1</th>\n",
       "      <td>Yaletown-Roundhouse Station</td>\n",
       "      <td>32603a87cfca71d0f7dfa3513bad69d5</td>\n",
       "      <td>49.274566</td>\n",
       "      <td>-123.121817</td>\n",
       "      <td>9</td>\n",
       "      <td>7</td>\n",
       "    </tr>\n",
       "    <tr>\n",
       "      <th>2</th>\n",
       "      <td>Dunsmuir &amp; Beatty</td>\n",
       "      <td>6d42fa40360f9a6b2bf641c7b8bb2862</td>\n",
       "      <td>49.279764</td>\n",
       "      <td>-123.110154</td>\n",
       "      <td>10</td>\n",
       "      <td>15</td>\n",
       "    </tr>\n",
       "    <tr>\n",
       "      <th>3</th>\n",
       "      <td>12th &amp; Yukon (City Hall)</td>\n",
       "      <td>66f873d641d448bd1572ab086665a458</td>\n",
       "      <td>49.260599</td>\n",
       "      <td>-123.113504</td>\n",
       "      <td>9</td>\n",
       "      <td>6</td>\n",
       "    </tr>\n",
       "    <tr>\n",
       "      <th>4</th>\n",
       "      <td>8th &amp; Ash</td>\n",
       "      <td>485d4d24c803cfde829ab89699fed833</td>\n",
       "      <td>49.264215</td>\n",
       "      <td>-123.117772</td>\n",
       "      <td>2</td>\n",
       "      <td>14</td>\n",
       "    </tr>\n",
       "    <tr>\n",
       "      <th>...</th>\n",
       "      <td>...</td>\n",
       "      <td>...</td>\n",
       "      <td>...</td>\n",
       "      <td>...</td>\n",
       "      <td>...</td>\n",
       "      <td>...</td>\n",
       "    </tr>\n",
       "    <tr>\n",
       "      <th>240</th>\n",
       "      <td>Cordova &amp; Granville</td>\n",
       "      <td>aa1cbf97abc3cd50515bc54633a9bb2a</td>\n",
       "      <td>49.285670</td>\n",
       "      <td>-123.112543</td>\n",
       "      <td>16</td>\n",
       "      <td>2</td>\n",
       "    </tr>\n",
       "    <tr>\n",
       "      <th>241</th>\n",
       "      <td>22nd &amp; Main</td>\n",
       "      <td>13021bba7bbeca1ccd8726ca17da59e6</td>\n",
       "      <td>49.250940</td>\n",
       "      <td>-123.101306</td>\n",
       "      <td>5</td>\n",
       "      <td>9</td>\n",
       "    </tr>\n",
       "    <tr>\n",
       "      <th>242</th>\n",
       "      <td>PNE - Hastings &amp; Windermere</td>\n",
       "      <td>a74744ce4bb7ea2aa9f406ac8bff95d8</td>\n",
       "      <td>49.280977</td>\n",
       "      <td>-123.035969</td>\n",
       "      <td>6</td>\n",
       "      <td>34</td>\n",
       "    </tr>\n",
       "    <tr>\n",
       "      <th>243</th>\n",
       "      <td>1st &amp; Fir</td>\n",
       "      <td>5699b40126e10c2f68eefc3eb18ff3a1</td>\n",
       "      <td>49.270783</td>\n",
       "      <td>-123.141564</td>\n",
       "      <td>0</td>\n",
       "      <td>20</td>\n",
       "    </tr>\n",
       "    <tr>\n",
       "      <th>244</th>\n",
       "      <td>Temporary Station - Celebration of Light</td>\n",
       "      <td>fc3ce29e4cbee5e7185f3b528b4dd1bc</td>\n",
       "      <td>0.000000</td>\n",
       "      <td>0.000000</td>\n",
       "      <td>36</td>\n",
       "      <td>2</td>\n",
       "    </tr>\n",
       "  </tbody>\n",
       "</table>\n",
       "<p>245 rows × 6 columns</p>\n",
       "</div>"
      ],
      "text/plain": [
       "                                 Station Name  \\\n",
       "0                               10th & Cambie   \n",
       "1                 Yaletown-Roundhouse Station   \n",
       "2                           Dunsmuir & Beatty   \n",
       "3                    12th & Yukon (City Hall)   \n",
       "4                                   8th & Ash   \n",
       "..                                        ...   \n",
       "240                       Cordova & Granville   \n",
       "241                               22nd & Main   \n",
       "242               PNE - Hastings & Windermere   \n",
       "243                                 1st & Fir   \n",
       "244  Temporary Station - Celebration of Light   \n",
       "\n",
       "                           Station ID   Latitude   Longitude  Available Bikes  \\\n",
       "0    7a19c49f486d7c0c02b3685d7b240448  49.262487 -123.114397               16   \n",
       "1    32603a87cfca71d0f7dfa3513bad69d5  49.274566 -123.121817                9   \n",
       "2    6d42fa40360f9a6b2bf641c7b8bb2862  49.279764 -123.110154               10   \n",
       "3    66f873d641d448bd1572ab086665a458  49.260599 -123.113504                9   \n",
       "4    485d4d24c803cfde829ab89699fed833  49.264215 -123.117772                2   \n",
       "..                                ...        ...         ...              ...   \n",
       "240  aa1cbf97abc3cd50515bc54633a9bb2a  49.285670 -123.112543               16   \n",
       "241  13021bba7bbeca1ccd8726ca17da59e6  49.250940 -123.101306                5   \n",
       "242  a74744ce4bb7ea2aa9f406ac8bff95d8  49.280977 -123.035969                6   \n",
       "243  5699b40126e10c2f68eefc3eb18ff3a1  49.270783 -123.141564                0   \n",
       "244  fc3ce29e4cbee5e7185f3b528b4dd1bc   0.000000    0.000000               36   \n",
       "\n",
       "     Empty Slots  \n",
       "0             19  \n",
       "1              7  \n",
       "2             15  \n",
       "3              6  \n",
       "4             14  \n",
       "..           ...  \n",
       "240            2  \n",
       "241            9  \n",
       "242           34  \n",
       "243           20  \n",
       "244            2  \n",
       "\n",
       "[245 rows x 6 columns]"
      ]
     },
     "execution_count": 9,
     "metadata": {},
     "output_type": "execute_result"
    }
   ],
   "source": [
    "df"
   ]
  },
  {
   "cell_type": "code",
   "execution_count": null,
   "metadata": {},
   "outputs": [],
   "source": []
  }
 ],
 "metadata": {
  "kernelspec": {
   "display_name": "Python 3 (ipykernel)",
   "language": "python",
   "name": "python3"
  },
  "language_info": {
   "codemirror_mode": {
    "name": "ipython",
    "version": 3
   },
   "file_extension": ".py",
   "mimetype": "text/x-python",
   "name": "python",
   "nbconvert_exporter": "python",
   "pygments_lexer": "ipython3",
   "version": "3.11.3"
  }
 },
 "nbformat": 4,
 "nbformat_minor": 4
}
