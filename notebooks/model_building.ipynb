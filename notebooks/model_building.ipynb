{
 "cells": [
  {
   "cell_type": "markdown",
   "metadata": {},
   "source": [
    "#### Build a regression model."
   ]
  },
  {
   "cell_type": "code",
   "execution_count": 1,
   "metadata": {
    "tags": []
   },
   "outputs": [],
   "source": [
    "import pandas as pd\n",
    "import numpy as np\n",
    "import statsmodels.api as sm\n",
    "import csv"
   ]
  },
  {
   "cell_type": "code",
   "execution_count": 2,
   "metadata": {
    "tags": []
   },
   "outputs": [],
   "source": [
    "# Import the cleaned DF\n",
    "df = pd.read_csv('cleaned_data.csv')"
   ]
  },
  {
   "cell_type": "markdown",
   "metadata": {},
   "source": [
    "#### Provide model output and an interpretation of the results. "
   ]
  },
  {
   "cell_type": "code",
   "execution_count": 3,
   "metadata": {
    "tags": []
   },
   "outputs": [
    {
     "name": "stdout",
     "output_type": "stream",
     "text": [
      "                            OLS Regression Results                            \n",
      "==============================================================================\n",
      "Dep. Variable:                 Rating   R-squared:                       0.007\n",
      "Model:                            OLS   Adj. R-squared:                  0.004\n",
      "Method:                 Least Squares   F-statistic:                     2.353\n",
      "Date:                Thu, 03 Aug 2023   Prob (F-statistic):             0.0959\n",
      "Time:                        01:07:03   Log-Likelihood:                -644.97\n",
      "No. Observations:                 653   AIC:                             1296.\n",
      "Df Residuals:                     650   BIC:                             1309.\n",
      "Df Model:                           2                                         \n",
      "Covariance Type:            nonrobust                                         \n",
      "======================================================================================\n",
      "                         coef    std err          t      P>|t|      [0.025      0.975]\n",
      "--------------------------------------------------------------------------------------\n",
      "const                224.2468    287.745      0.779      0.436    -340.775     789.268\n",
      "Business Latitude     -6.3536      2.932     -2.167      0.031     -12.112      -0.595\n",
      "Business Longitude    -0.7531      2.271     -0.332      0.740      -5.213       3.707\n",
      "==============================================================================\n",
      "Omnibus:                       35.665   Durbin-Watson:                   2.086\n",
      "Prob(Omnibus):                  0.000   Jarque-Bera (JB):               41.729\n",
      "Skew:                          -0.539   Prob(JB):                     8.68e-10\n",
      "Kurtosis:                       3.609   Cond. No.                     1.50e+06\n",
      "==============================================================================\n",
      "\n",
      "Notes:\n",
      "[1] Standard Errors assume that the covariance matrix of the errors is correctly specified.\n",
      "[2] The condition number is large, 1.5e+06. This might indicate that there are\n",
      "strong multicollinearity or other numerical problems.\n"
     ]
    }
   ],
   "source": [
    "# Prepare the data for the regression model\n",
    "x = df[['Business Latitude', 'Business Longitude']]\n",
    "y = df['Rating']\n",
    "\n",
    "x = sm.add_constant(x)\n",
    "\n",
    "# Fit the linear regression model\n",
    "model = sm.OLS(y, x).fit()\n",
    "\n",
    "# Print the summary of the regression model\n",
    "print(model.summary())"
   ]
  },
  {
   "cell_type": "markdown",
   "metadata": {},
   "source": [
    "The \"Business Latitiude\" P-value is smaller than 0.05, so it signifies that Latitude has significance in determination of a good Yelp rated Bubble Tea Shops in Vancouver. Using the other tests, we can summarize the following:\n",
    "\n",
    "Omnibus test/prob(Omnibus): the data does not follow a normal distribution. This makes sense as the data is clustered towards downtown Vancouver.\n",
    "Durbin-Watson (value between 0 and 4): the value of 2.086 is close to 2, which signifies no strong evidence of autocorrelation.\n",
    "Jarque-Bera/prob(JB): prob(JB) < 0.05 means that the data is not normally distributed.\n",
    "Skew: it is slightly negatively skewed with a value of -0.539.\n",
    "Kurtosis: the value of 3.609 means that the Kurtosis has a 'lighter-tailed' distribution compared to a normal distribution - explains that more shops are in downtown Vancouver, but are still relative to the bike stations.\n",
    "Cond. No: The high number indicated multicollinearity, meaning independent variables are correlated. Simply visualizing the data, shops are irregularly scattered as it keeps to commercial areas vs residential areas."
   ]
  },
  {
   "cell_type": "markdown",
   "metadata": {},
   "source": [
    "# Stretch"
   ]
  },
  {
   "cell_type": "markdown",
   "metadata": {},
   "source": [
    "How can you turn the regression model into a classification model?"
   ]
  },
  {
   "cell_type": "code",
   "execution_count": 4,
   "metadata": {},
   "outputs": [],
   "source": [
    "# Cast/set a threshold and change rating values from continuous to discrete\n",
    "threshold = 4.0\n",
    "\n",
    "# Label encoding: let 1 = \"High rating\" and 0 = \"Low rating\"\n",
    "df['Rating_Class'] = df['Rating'].apply(lambda x: 1 if x > threshold else 0)"
   ]
  },
  {
   "cell_type": "code",
   "execution_count": 5,
   "metadata": {
    "tags": []
   },
   "outputs": [
    {
     "name": "stdout",
     "output_type": "stream",
     "text": [
      "Optimization terminated successfully.\n",
      "         Current function value: 0.591707\n",
      "         Iterations 13\n",
      "                           Logit Regression Results                           \n",
      "==============================================================================\n",
      "Dep. Variable:           Rating_Class   No. Observations:                  653\n",
      "Model:                          Logit   Df Residuals:                      650\n",
      "Method:                           MLE   Df Model:                            2\n",
      "Date:                Thu, 03 Aug 2023   Pseudo R-squ.:                 0.01652\n",
      "Time:                        01:07:13   Log-Likelihood:                -386.38\n",
      "converged:                       True   LL-Null:                       -392.87\n",
      "Covariance Type:            nonrobust   LLR p-value:                  0.001521\n",
      "======================================================================================\n",
      "                         coef    std err          z      P>|z|      [0.025      0.975]\n",
      "--------------------------------------------------------------------------------------\n",
      "const               1450.8713    977.710      1.484      0.138    -465.404    3367.147\n",
      "Business Latitude    -34.2941      9.520     -3.603      0.000     -52.952     -15.636\n",
      "Business Longitude    -1.9346      7.708     -0.251      0.802     -17.042      13.173\n",
      "======================================================================================\n"
     ]
    }
   ],
   "source": [
    "# logistic regression model\n",
    "x = df[['Business Latitude', 'Business Longitude']]\n",
    "y = df['Rating_Class']\n",
    "\n",
    "x = sm.add_constant(x)\n",
    "\n",
    "# Fit the logistic regression model\n",
    "logit_model = sm.Logit(y, x).fit()\n",
    "\n",
    "# Print logistic regression summary\n",
    "print(logit_model.summary())"
   ]
  },
  {
   "cell_type": "markdown",
   "metadata": {},
   "source": [
    "The classification model was better at describing the trend of the data, with P-values < 0.05. In fact, with a P-value of 0, Business Latitude would be the main factor for Bubble Tea Shops. My interpretation is that since there are more bubble tea shops in one area (downtown Vancouver), the quality of their products could be higher due to higher competition. In order to garner more revenue and have more satisfied customers (as per rating), the quality control must be better, otherwise the stores might lose business to their competitor down the street."
   ]
  },
  {
   "cell_type": "markdown",
   "metadata": {},
   "source": [
    "The importance of Lat/Lng will change depending on the threshold set. My assumption is that most people would generally consider a rating of 4.0 a highly rated business/shop."
   ]
  }
 ],
 "metadata": {
  "kernelspec": {
   "display_name": "Python 3 (ipykernel)",
   "language": "python",
   "name": "python3"
  },
  "language_info": {
   "codemirror_mode": {
    "name": "ipython",
    "version": 3
   },
   "file_extension": ".py",
   "mimetype": "text/x-python",
   "name": "python",
   "nbconvert_exporter": "python",
   "pygments_lexer": "ipython3",
   "version": "3.11.3"
  }
 },
 "nbformat": 4,
 "nbformat_minor": 4
}
